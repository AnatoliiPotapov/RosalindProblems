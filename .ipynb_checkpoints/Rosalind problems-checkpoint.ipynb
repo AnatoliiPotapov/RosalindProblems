{
 "cells": [
  {
   "cell_type": "markdown",
   "metadata": {},
   "source": [
    "<h1>Задачки с rosalind.info</h1>"
   ]
  },
  {
   "cell_type": "markdown",
   "metadata": {},
   "source": [
    "1) Counting DNA Nucleotides"
   ]
  },
  {
   "cell_type": "code",
   "execution_count": 4,
   "metadata": {
    "collapsed": false
   },
   "outputs": [
    {
     "data": {
      "text/html": [
       "<ol class=list-inline>\n",
       "\t<li>20</li>\n",
       "\t<li>12</li>\n",
       "\t<li>17</li>\n",
       "\t<li>21</li>\n",
       "</ol>\n"
      ],
      "text/latex": [
       "\\begin{enumerate*}\n",
       "\\item 20\n",
       "\\item 12\n",
       "\\item 17\n",
       "\\item 21\n",
       "\\end{enumerate*}\n"
      ],
      "text/markdown": [
       "1. 20\n",
       "2. 12\n",
       "3. 17\n",
       "4. 21\n",
       "\n",
       "\n"
      ],
      "text/plain": [
       "[1] 20 12 17 21"
      ]
     },
     "execution_count": 4,
     "metadata": {},
     "output_type": "execute_result"
    }
   ],
   "source": [
    "count_dna <- function(string) {\n",
    "  str <- strsplit(string, split=\"\")[[1]]\n",
    "  dict <- list(\"A\" = 0, \"C\" = 0, \"G\" = 0, \"T\" = 0)\n",
    "  lapply(seq_along(str), function(i) {\n",
    "    dict[[str[i]]] <<- dict[[str[i]]] + 1\n",
    "  })\n",
    "  as.numeric(dict)\n",
    "}\n",
    "count_dna(\"AGCTTTTCATTCTGACTGCAACGGGCAATATGTCTCTGTGTGGATTAAAAAAAGAGTGTCTGATAGCAGC\")"
   ]
  },
  {
   "cell_type": "markdown",
   "metadata": {},
   "source": [
    "2) Transcribing DNA into RNA"
   ]
  },
  {
   "cell_type": "code",
   "execution_count": 5,
   "metadata": {
    "collapsed": false
   },
   "outputs": [
    {
     "data": {
      "text/html": [
       "'GAUGGAACUUGACUACGUAAAUU'"
      ],
      "text/latex": [
       "'GAUGGAACUUGACUACGUAAAUU'"
      ],
      "text/markdown": [
       "'GAUGGAACUUGACUACGUAAAUU'"
      ],
      "text/plain": [
       "[1] \"GAUGGAACUUGACUACGUAAAUU\""
      ]
     },
     "execution_count": 5,
     "metadata": {},
     "output_type": "execute_result"
    }
   ],
   "source": [
    "transcribe_dna <- function(string) {\n",
    "  str <- strsplit(string, split=\"\")[[1]]\n",
    "  output <- lapply(seq_along(str), function(i) {\n",
    "    if (str[i] == \"T\") \"U\" else str[i]\n",
    "  })\n",
    "  do.call(\"paste\", c(output, sep = \"\"))\n",
    "}\n",
    "transcribe_dna(\"GATGGAACTTGACTACGTAAATT\")     "
   ]
  },
  {
   "cell_type": "markdown",
   "metadata": {},
   "source": [
    "3) Complementing a Strand of DNA"
   ]
  },
  {
   "cell_type": "code",
   "execution_count": 6,
   "metadata": {
    "collapsed": false
   },
   "outputs": [
    {
     "data": {
      "text/html": [
       "'ACCGGGTTTT'"
      ],
      "text/latex": [
       "'ACCGGGTTTT'"
      ],
      "text/markdown": [
       "'ACCGGGTTTT'"
      ],
      "text/plain": [
       "[1] \"ACCGGGTTTT\""
      ]
     },
     "execution_count": 6,
     "metadata": {},
     "output_type": "execute_result"
    }
   ],
   "source": [
    "get_reverse_complement <- function(string) {\n",
    "  dict <- list(\"A\" = \"T\", \"C\" = \"G\", \"G\" = \"C\", \"T\" = \"A\")\n",
    "  str <- strsplit(string, split=\"\")[[1]]\n",
    "  output <- rev(lapply(seq_along(str), function(i) {\n",
    "    dict[[str[i]]]\n",
    "  }))\n",
    "  do.call(\"paste\", c(output, sep = \"\"))\n",
    "}\n",
    "get_reverse_complement(\"AAAACCCGGT\")"
   ]
  },
  {
   "cell_type": "code",
   "execution_count": null,
   "metadata": {
    "collapsed": true
   },
   "outputs": [],
   "source": []
  }
 ],
 "metadata": {
  "kernelspec": {
   "display_name": "R",
   "language": "R",
   "name": "ir"
  },
  "language_info": {
   "codemirror_mode": "r",
   "file_extension": ".r",
   "mimetype": "text/x-r-source",
   "name": "R",
   "pygments_lexer": "r",
   "version": "3.2.2"
  }
 },
 "nbformat": 4,
 "nbformat_minor": 0
}
