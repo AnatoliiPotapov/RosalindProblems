{
 "cells": [
  {
   "cell_type": "markdown",
   "metadata": {
    "slideshow": {
     "slide_type": "slide"
    }
   },
   "source": [
    "<h1>Задачки с rosalind.info</h1>"
   ]
  },
  {
   "cell_type": "markdown",
   "metadata": {},
   "source": [
    "Задачки по биоинформатике на языке R"
   ]
  },
  {
   "cell_type": "markdown",
   "metadata": {
    "slideshow": {
     "slide_type": "slide"
    }
   },
   "source": [
    "1) Counting DNA Nucleotides"
   ]
  },
  {
   "cell_type": "code",
   "execution_count": 4,
   "metadata": {
    "collapsed": false,
    "slideshow": {
     "slide_type": "slide"
    }
   },
   "outputs": [
    {
     "data": {
      "text/html": [
       "<ol class=list-inline>\n",
       "\t<li>20</li>\n",
       "\t<li>12</li>\n",
       "\t<li>17</li>\n",
       "\t<li>21</li>\n",
       "</ol>\n"
      ],
      "text/latex": [
       "\\begin{enumerate*}\n",
       "\\item 20\n",
       "\\item 12\n",
       "\\item 17\n",
       "\\item 21\n",
       "\\end{enumerate*}\n"
      ],
      "text/markdown": [
       "1. 20\n",
       "2. 12\n",
       "3. 17\n",
       "4. 21\n",
       "\n",
       "\n"
      ],
      "text/plain": [
       "[1] 20 12 17 21"
      ]
     },
     "execution_count": 4,
     "metadata": {},
     "output_type": "execute_result"
    }
   ],
   "source": [
    "count_dna <- function(string) {\n",
    "  str <- strsplit(string, split=\"\")[[1]]\n",
    "  dict <- list(\"A\" = 0, \"C\" = 0, \"G\" = 0, \"T\" = 0)\n",
    "  lapply(seq_along(str), function(i) {\n",
    "    dict[[str[i]]] <<- dict[[str[i]]] + 1\n",
    "  })\n",
    "  as.numeric(dict)\n",
    "}\n",
    "count_dna(\"AGCTTTTCATTCTGACTGCAACGGGCAATATGTCTCTGTGTGGATTAAAAAAAGAGTGTCTGATAGCAGC\")"
   ]
  },
  {
   "cell_type": "markdown",
   "metadata": {
    "slideshow": {
     "slide_type": "slide"
    }
   },
   "source": [
    "2) Transcribing DNA into RNA"
   ]
  },
  {
   "cell_type": "code",
   "execution_count": 5,
   "metadata": {
    "collapsed": false,
    "slideshow": {
     "slide_type": "slide"
    }
   },
   "outputs": [
    {
     "data": {
      "text/html": [
       "'GAUGGAACUUGACUACGUAAAUU'"
      ],
      "text/latex": [
       "'GAUGGAACUUGACUACGUAAAUU'"
      ],
      "text/markdown": [
       "'GAUGGAACUUGACUACGUAAAUU'"
      ],
      "text/plain": [
       "[1] \"GAUGGAACUUGACUACGUAAAUU\""
      ]
     },
     "execution_count": 5,
     "metadata": {},
     "output_type": "execute_result"
    }
   ],
   "source": [
    "transcribe_dna <- function(string) {\n",
    "  str <- strsplit(string, split=\"\")[[1]]\n",
    "  output <- lapply(seq_along(str), function(i) {\n",
    "    if (str[i] == \"T\") \"U\" else str[i]\n",
    "  })\n",
    "  do.call(\"paste\", c(output, sep = \"\"))\n",
    "}\n",
    "transcribe_dna(\"GATGGAACTTGACTACGTAAATT\")     "
   ]
  },
  {
   "cell_type": "markdown",
   "metadata": {
    "slideshow": {
     "slide_type": "slide"
    }
   },
   "source": [
    "3) Complementing a Strand of DNA"
   ]
  },
  {
   "cell_type": "code",
   "execution_count": 6,
   "metadata": {
    "collapsed": false,
    "slideshow": {
     "slide_type": "slide"
    }
   },
   "outputs": [
    {
     "data": {
      "text/html": [
       "'ACCGGGTTTT'"
      ],
      "text/latex": [
       "'ACCGGGTTTT'"
      ],
      "text/markdown": [
       "'ACCGGGTTTT'"
      ],
      "text/plain": [
       "[1] \"ACCGGGTTTT\""
      ]
     },
     "execution_count": 6,
     "metadata": {},
     "output_type": "execute_result"
    }
   ],
   "source": [
    "get_reverse_complement <- function(string) {\n",
    "  dict <- list(\"A\" = \"T\", \"C\" = \"G\", \"G\" = \"C\", \"T\" = \"A\")\n",
    "  str <- strsplit(string, split=\"\")[[1]]\n",
    "  output <- rev(lapply(seq_along(str), function(i) {\n",
    "    dict[[str[i]]]\n",
    "  }))\n",
    "  do.call(\"paste\", c(output, sep = \"\"))\n",
    "}\n",
    "get_reverse_complement(\"AAAACCCGGT\")"
   ]
  },
  {
   "cell_type": "markdown",
   "metadata": {
    "slideshow": {
     "slide_type": "slide"
    }
   },
   "source": [
    "4) Rabbits and Recurrence Relations"
   ]
  },
  {
   "cell_type": "code",
   "execution_count": 11,
   "metadata": {
    "collapsed": false,
    "slideshow": {
     "slide_type": "slide"
    }
   },
   "outputs": [
    {
     "data": {
      "text/html": [
       "19"
      ],
      "text/latex": [
       "19"
      ],
      "text/markdown": [
       "19"
      ],
      "text/plain": [
       "[1] 19"
      ]
     },
     "execution_count": 11,
     "metadata": {},
     "output_type": "execute_result"
    }
   ],
   "source": [
    "count_fibbonacci_rabbits <- function(n,k) {\n",
    "  newborn <- 1\n",
    "  adult <- 0\n",
    "  for (i in c(1:(n-1))) {\n",
    "    newborn_inc <- adult * k\n",
    "    adult_inc <- newborn\n",
    "    newborn = newborn_inc\n",
    "    adult = adult + adult_inc\n",
    "  }\n",
    "  newborn + adult\n",
    "}\n",
    "count_fibbonacci_rabbits(5,3)"
   ]
  },
  {
   "cell_type": "markdown",
   "metadata": {
    "slideshow": {
     "slide_type": "slide"
    }
   },
   "source": [
    "5) Computing GC Content"
   ]
  },
  {
   "cell_type": "code",
   "execution_count": 13,
   "metadata": {
    "collapsed": true,
    "slideshow": {
     "slide_type": "slide"
    }
   },
   "outputs": [],
   "source": [
    "compute_gc_content <- function(file_path) {\n",
    "  \n",
    "  max_gc_ct <- c(0)\n",
    "  max_gc_ct_label <- c(\"\")\n",
    "  \n",
    "  strings <- readLines(file_path)\n",
    "  label_lines <- c(grep(\">\", strings), length(strings)+1)\n",
    "  for (i in 1:(length(label_lines)-1)) {\n",
    "    string <- do.call(\"paste\", c(as.list(strings[(label_lines[i]+1):(label_lines[i+1]-1)]), sep = \"\"))\n",
    "    dna_content <- count_dna(string)\n",
    "    gc_content <- (dna_content$C+dna_content$G) / sum(as.numeric(dna_content))\n",
    "               \n",
    "    if (gc_content > max_gc_ct) {\n",
    "      max_gc_ct <- gc_content\n",
    "      max_gc_ct_label <- strings[label_lines[i]]  \n",
    "    }                                                                                       \n",
    "    #print(strings[label_lines[i]])\n",
    "    #print(string)\n",
    "    #print(gc_content)\n",
    "  }\n",
    "  print(max_gc_ct_label)\n",
    "  print(max_gc_ct * 100.0)\n",
    "}"
   ]
  },
  {
   "cell_type": "markdown",
   "metadata": {
    "slideshow": {
     "slide_type": "slide"
    }
   },
   "source": [
    "6) Counting Point Mutations"
   ]
  },
  {
   "cell_type": "code",
   "execution_count": 15,
   "metadata": {
    "collapsed": false,
    "slideshow": {
     "slide_type": "slide"
    }
   },
   "outputs": [
    {
     "data": {
      "text/html": [
       "7"
      ],
      "text/latex": [
       "7"
      ],
      "text/markdown": [
       "7"
      ],
      "text/plain": [
       "[1] 7"
      ]
     },
     "execution_count": 15,
     "metadata": {},
     "output_type": "execute_result"
    }
   ],
   "source": [
    "compute_hamming_distance <- function(string1,string2) {\n",
    "  str1 <- strsplit(string1, split=\"\")[[1]]\n",
    "  str2 <- strsplit(string2, split=\"\")[[1]]\n",
    "  distance <- 0\n",
    "  lapply(seq_along(str1), function(i) { if (str1[i] != str2[i]) distance <<- distance + 1})\n",
    "  distance\n",
    "}\n",
    "compute_hamming_distance(\"GAGCCTACTAACGGGAT\",\"CATCGTAATGACGGCCT\")"
   ]
  }
 ],
 "metadata": {
  "kernelspec": {
   "display_name": "R",
   "language": "R",
   "name": "ir"
  },
  "language_info": {
   "codemirror_mode": "r",
   "file_extension": ".r",
   "mimetype": "text/x-r-source",
   "name": "R",
   "pygments_lexer": "r",
   "version": "3.2.2"
  }
 },
 "nbformat": 4,
 "nbformat_minor": 0
}
